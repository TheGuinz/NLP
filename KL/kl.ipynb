{
 "cells": [
  {
   "cell_type": "code",
   "execution_count": 1,
   "id": "50acd58a",
   "metadata": {},
   "outputs": [],
   "source": [
    "from tqdm import tqdm\n",
    "import sys\n",
    "sys.path.insert(0, '/home/guinzburg/NLP/Data')\n",
    "from data_parser import parse_queries, parse_documents\n",
    "from LMIR import LMIR"
   ]
  },
  {
   "cell_type": "markdown",
   "id": "03000fc2",
   "metadata": {},
   "source": [
    "# Data\n",
    "Load the files containing queries and documents using 'parse_queries' and 'parse_documents'"
   ]
  },
  {
   "cell_type": "code",
   "execution_count": 2,
   "id": "b526b4b2",
   "metadata": {},
   "outputs": [],
   "source": [
    "# Get all queries\n",
    "queries = parse_queries('/home/guinzburg/NLP/Data/CISI.QRY')\n",
    "# Get all documents\n",
    "documents = parse_documents('/home/guinzburg/NLP/Data/CISI.ALL')"
   ]
  },
  {
   "cell_type": "markdown",
   "id": "1a9cc774",
   "metadata": {},
   "source": [
    "# KL Processing\n",
    "For each query, find the document with the highest KL rate"
   ]
  },
  {
   "cell_type": "code",
   "execution_count": null,
   "id": "59e3f183",
   "metadata": {},
   "outputs": [
    {
     "name": "stderr",
     "output_type": "stream",
     "text": [
      "Processing Queries:   5%|▌         | 6/112 [03:06<51:47, 29.32s/it]  "
     ]
    }
   ],
   "source": [
    "# for each query, find the document with the highest KL rate and store it a dictionary item in a list, e.g. [{\"<QUERY_ID>\":\"123\", \"KL Rate\": 1.23, <\"QUERY>\":\"abc\", \"<DOCUMENT_TITLE>\":\"abc\", \"<QUERY_TEXT>\":\"abc\"}]\n",
    "top_kl_items = []\n",
    "for q_id, q in tqdm(queries.items(), desc=\"Processing Queries\"):\n",
    "    ir = LMIR()\n",
    "    max_kl_rate = 0\n",
    "    for _, d in documents.items():\n",
    "        d_tit = d[\"title\"] # get document title\n",
    "        d_txt = d[\"body\"] # get document text\n",
    "        ir.AddDocText(d_tit, d_txt)\n",
    "        # ir.test() ##### NOT SURE WHAT IT IS FOR!\n",
    "        kl = ir.RankKL(q)\n",
    "    # iterate on all kl items to look for the one with the highest rate\n",
    "    for kl_item in kl:\n",
    "        kl_item_rate = kl_item[1]\n",
    "        if kl_item_rate > max_kl_rate:\n",
    "            max_kl_rate = kl_item_rate\n",
    "            max_kl_doc_tit = kl_item[0]\n",
    "    # retrieve document top kl ID's\n",
    "    for d_id, d in documents.items():\n",
    "        if d[\"title\"] == max_kl_doc_tit:\n",
    "            max_kl_doc_id = d_id\n",
    "    \n",
    "    top_kl_items.append({\"Query ID\": q_id,\n",
    "                            \"Query\": q,\n",
    "                            \"KL Rate\": max_kl_rate,\n",
    "                            \"Document ID\": max_kl_doc_id,\n",
    "                            \"Document Title\": max_kl_doc_tit,\n",
    "                            \"Document Body\": documents[max_kl_doc_id]['body']})"
   ]
  },
  {
   "cell_type": "markdown",
   "id": "1a434396",
   "metadata": {},
   "source": [
    "# Results\n",
    "Get the top 10 queries with the highest KL rate"
   ]
  },
  {
   "cell_type": "code",
   "execution_count": null,
   "id": "8161c23f",
   "metadata": {},
   "outputs": [],
   "source": [
    "# Get Top N elements from '{top_kl_items}'\n",
    "# Using sorted() + lambda\n",
    "N = 10\n",
    "top_queries = sorted(top_kl_items, key = lambda x: x[\"KL Rate\"], reverse = True)[:N]"
   ]
  }
 ],
 "metadata": {
  "kernelspec": {
   "display_name": "Python 3",
   "language": "python",
   "name": "python3"
  },
  "language_info": {
   "codemirror_mode": {
    "name": "ipython",
    "version": 3
   },
   "file_extension": ".py",
   "mimetype": "text/x-python",
   "name": "python",
   "nbconvert_exporter": "python",
   "pygments_lexer": "ipython3",
   "version": "3.8.11"
  }
 },
 "nbformat": 4,
 "nbformat_minor": 5
}
