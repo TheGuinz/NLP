{
 "cells": [
  {
   "cell_type": "markdown",
   "metadata": {},
   "source": [
    "# Information Retrieval using word2vec based Vector Space Model"
   ]
  },
  {
   "cell_type": "code",
   "execution_count": 1,
   "metadata": {},
   "outputs": [],
   "source": [
    "import pandas as pd\n",
    "import numpy as np\n",
    "import dask.dataframe as dd\n",
    "import pandas as pd\n",
    "import re\n",
    "import sys\n",
    "sys.path.insert(0, '/home/guinzburg/NLP/Data')\n",
    "from data_parser import parse_queries, parse_documents, parse_data_ground_truth\n",
    "from sklearn.model_selection import train_test_split\n",
    "import spacy ## for stopwords removal\n",
    "nlp = spacy.load('en_core_web_sm',disable=['ner','parser'])\n",
    "nlp.max_length=5000000\n",
    "from gensim.models import Word2Vec # for word2vec model\n",
    "from sklearn.metrics.pairwise import cosine_similarity"
   ]
  },
  {
   "cell_type": "markdown",
   "metadata": {},
   "source": [
    "## Word2Vec\n",
    "Word2vec is a two-layer neural net that processes text by “vectorizing” words. Its input is a text corpus and its output is a set of vectors: feature vectors that represent words in that corpus"
   ]
  },
  {
   "cell_type": "markdown",
   "metadata": {},
   "source": [
    "## Documents, Queries, and Ground Truth\n",
    "Load the files containing queries, documents and ground truth using 'parse_queries', 'parse_documents', and parse_data_ground_truth for further processing"
   ]
  },
  {
   "cell_type": "code",
   "execution_count": 2,
   "metadata": {},
   "outputs": [],
   "source": [
    "# Get all queries\n",
    "queries = pd.DataFrame.from_dict(parse_queries(path='/home/guinzburg/NLP/Data/CISI.QRY'), columns = ['query'], orient=\"index\")#.reset_index(drop=True)\n",
    "\n",
    "# Get all documents\n",
    "documents = pd.DataFrame.from_dict(parse_documents(path='/home/guinzburg/NLP/Data/CISI.ALL'), orient=\"index\").reset_index()\n",
    "documents.index = range(1, len(documents) + 1)\n",
    "\n",
    "# Get ground truth\n",
    "ground_truth = pd.DataFrame.from_dict(parse_data_ground_truth(path='/home/guinzburg/NLP/Data/CISI.REL'), orient='index').T"
   ]
  },
  {
   "cell_type": "markdown",
   "metadata": {},
   "source": [
    "Create a train set and test set for training the word2vec model for both queries and documents"
   ]
  },
  {
   "cell_type": "code",
   "execution_count": 3,
   "metadata": {},
   "outputs": [],
   "source": [
    "# Create train and test set for queries (80% / 20%)\n",
    "training_queries, testing_queries = train_test_split(queries, test_size=0.2)\n",
    "\n",
    "# Create train and test set for documents (80% / 20%)\n",
    "training_documents, testing_documents = train_test_split(documents, test_size=0.2)"
   ]
  },
  {
   "cell_type": "markdown",
   "metadata": {},
   "source": [
    "# Text Preprocessing\n",
    "Process the documents and queries as follows:\n",
    "\n",
    "### Documents:\n",
    "1. Lowercase the text\n",
    "2. Expand Contractions\n",
    "3. Clean the text\n",
    "4. Remove Stopwords\n",
    "5. Lemmatize words\n",
    "\n",
    "### Queries:\n",
    "1. Lowercase the text\n",
    "2. Expand Contractions\n",
    "3. Clean the text\n",
    "4. We now have everything clear in our minds, so let’s start writing codes for pre-processing the documents."
   ]
  },
  {
   "cell_type": "code",
   "execution_count": 5,
   "metadata": {},
   "outputs": [],
   "source": [
    "# Create empty corpuses dataframes for training and testing\n",
    "training_corpus = pd.DataFrame(columns=['cleaned','lemmatized', 'vector'])\n",
    "testing_corpus = pd.DataFrame(columns=['cleaned','lemmatized', 'vector'])\n",
    "\n",
    "# Lowercasing the text\n",
    "training_corpus['cleaned'] = training_documents['body'].apply(lambda x:x.lower())\n",
    "testing_corpus['cleaned'] = testing_documents['body'].apply(lambda x:x.lower())\n",
    "\n",
    "def expand_contractions(text):\n",
    "    \"\"\"\n",
    "        Description: function for expanding contractions in a given text\n",
    "    \"\"\"\n",
    "    \n",
    "    # Dictionary of english Contractions\n",
    "    contractions_dict = { \"ain't\": \"are not\",\"'s\":\" is\",\"aren't\": \"are not\",\"can't\": \"can not\",\"can't've\": \"cannot have\",\n",
    "    \"'cause\": \"because\",\"could've\": \"could have\",\"couldn't\": \"could not\",\"couldn't've\": \"could not have\",\n",
    "    \"didn't\": \"did not\",\"doesn't\": \"does not\",\"don't\": \"do not\",\"hadn't\": \"had not\",\"hadn't've\": \"had not have\",\n",
    "    \"hasn't\": \"has not\",\"haven't\": \"have not\",\"he'd\": \"he would\",\"he'd've\": \"he would have\",\"he'll\": \"he will\",\n",
    "    \"he'll've\": \"he will have\",\"how'd\": \"how did\",\"how'd'y\": \"how do you\",\"how'll\": \"how will\",\"i'd\": \"i would\",\n",
    "    \"i'd've\": \"i would have\",\"i'll\": \"i will\",\"i'll've\": \"i will have\",\"i'm\": \"i am\",\"i've\": \"i have\",\n",
    "    \"isn't\": \"is not\",\"it'd\": \"it would\",\"it'd've\": \"it would have\",\"it'll\": \"it will\",\"it'll've\": \"it will have\",\n",
    "    \"let's\": \"let us\",\"ma'am\": \"madam\",\"mayn't\": \"may not\",\"might've\": \"might have\",\"mightn't\": \"might not\",\n",
    "    \"mightn't've\": \"might not have\",\"must've\": \"must have\",\"mustn't\": \"must not\",\"mustn't've\": \"must not have\",\n",
    "    \"needn't\": \"need not\",\"needn't've\": \"need not have\",\"o'clock\": \"of the clock\",\"oughtn't\": \"ought not\",\n",
    "    \"oughtn't've\": \"ought not have\",\"shan't\": \"shall not\",\"sha'n't\": \"shall not\",\n",
    "    \"shan't've\": \"shall not have\",\"she'd\": \"she would\",\"she'd've\": \"she would have\",\"she'll\": \"she will\",\n",
    "    \"she'll've\": \"she will have\",\"should've\": \"should have\",\"shouldn't\": \"should not\",\n",
    "    \"shouldn't've\": \"should not have\",\"so've\": \"so have\",\"that'd\": \"that would\",\"that'd've\": \"that would have\",\n",
    "    \"there'd\": \"there would\",\"there'd've\": \"there would have\",\n",
    "    \"they'd\": \"they would\",\"they'd've\": \"they would have\",\"they'll\": \"they will\",\"they'll've\": \"they will have\",\n",
    "    \"they're\": \"they are\",\"they've\": \"they have\",\"to've\": \"to have\",\"wasn't\": \"was not\",\"we'd\": \"we would\",\n",
    "    \"we'd've\": \"we would have\",\"we'll\": \"we will\",\"we'll've\": \"we will have\",\"we're\": \"we are\",\"we've\": \"we have\",\n",
    "    \"weren't\": \"were not\",\"what'll\": \"what will\",\"what'll've\": \"what will have\",\"what're\": \"what are\",\n",
    "    \"what've\": \"what have\",\"when've\": \"when have\",\"where'd\": \"where did\",\n",
    "    \"where've\": \"where have\",\"who'll\": \"who will\",\"who'll've\": \"who will have\",\"who've\": \"who have\",\n",
    "    \"why've\": \"why have\",\"will've\": \"will have\",\"won't\": \"will not\",\"won't've\": \"will not have\",\n",
    "    \"would've\": \"would have\",\"wouldn't\": \"would not\",\"wouldn't've\": \"would not have\",\"y'all\": \"you all\",\n",
    "    \"y'all'd\": \"you all would\",\"y'all'd've\": \"you all would have\",\"y'all're\": \"you all are\",\"y'all've\": \"you all have\",\n",
    "    \"you'd\": \"you would\",\"you'd've\": \"you would have\",\"you'll\": \"you will\",\"you'll've\": \"you will have\",\n",
    "    \"you're\": \"you are\",\"you've\": \"you have\"}\n",
    "\n",
    "    # Regular expression for finding contractions\n",
    "    contractions_re = re.compile('(%s)' % '|'.join(contractions_dict.keys()))\n",
    "\n",
    "    def replace(match):\n",
    "        return contractions_dict[match.group(0)]\n",
    "    \n",
    "    return contractions_re.sub(replace, text)\n",
    "\n",
    "def clean_text(text):\n",
    "    \"\"\"\n",
    "        Description: function for cleaning a given text, \n",
    "        such as: \n",
    "        [*] remove the words with digits\n",
    "        [*] replace newline characters with space\n",
    "        [*] remove URLs\n",
    "        [*] replace everything that isn’t English alphabets with space\n",
    "    \"\"\"\n",
    "    \n",
    "    text = re.sub('\\w*\\d\\w*','', text)\n",
    "    text = re.sub('\\n',' ',text)\n",
    "    text = re.sub(r\"http\\S+\", \"\", text)\n",
    "    text = re.sub('[^a-z]',' ',text)\n",
    "    \n",
    "    return text\n",
    "\n",
    "# Expanding Contractions\n",
    "training_corpus['cleaned'] = training_corpus['cleaned'].apply(lambda x:expand_contractions(x))\n",
    "testing_corpus['cleaned'] = testing_corpus['cleaned'].apply(lambda x:expand_contractions(x))\n",
    "\n",
    "# Cleaning corpus using RegEx\n",
    "training_corpus['cleaned'] = training_corpus['cleaned'].apply(lambda x: clean_text(x))\n",
    "testing_corpus['cleaned'] = testing_corpus['cleaned'].apply(lambda x: clean_text(x))\n",
    "\n",
    "# Removing extra spaces\n",
    "training_corpus['cleaned'] = training_corpus['cleaned'].apply(lambda x: re.sub(' +',' ',x))\n",
    "testing_corpus['cleaned'] = testing_corpus['cleaned'].apply(lambda x: re.sub(' +',' ',x))\n",
    "\n",
    "# Removing Stopwords and Lemmatizing words\n",
    "training_corpus['lemmatized'] = training_corpus['cleaned'].apply(lambda x: ' '.join([token.lemma_ for token in list(nlp(x)) if (token.is_stop==False)]))\n",
    "testing_corpus['lemmatized'] = testing_corpus['cleaned'].apply(lambda x: ' '.join([token.lemma_ for token in list(nlp(x)) if (token.is_stop==False)]))"
   ]
  },
  {
   "cell_type": "markdown",
   "metadata": {},
   "source": [
    "Rre-process queries."
   ]
  },
  {
   "cell_type": "code",
   "execution_count": 6,
   "metadata": {},
   "outputs": [],
   "source": [
    "# Create empty dataframes for queries training and testing\n",
    "training_queries_ = pd.DataFrame(columns=['cleaned','lemmatized', 'vector'])\n",
    "testing_queries_ = pd.DataFrame(columns=['cleaned','lemmatized', 'vector'])\n",
    "\n",
    "# Lowercasing the text\n",
    "training_queries_['cleaned'] = training_queries['query'].apply(lambda x:x.lower())\n",
    "testing_queries_['cleaned'] = testing_queries['query'].apply(lambda x:x.lower())\n",
    "\n",
    "# Expanding contractions\n",
    "training_queries_['cleaned'] = training_queries_['cleaned'].apply(lambda x:expand_contractions(x))\n",
    "testing_queries_['cleaned'] = testing_queries_['cleaned'].apply(lambda x:expand_contractions(x))\n",
    "\n",
    "# Cleaning queries using RegEx\n",
    "training_queries_['cleaned'] = training_queries_['cleaned'].apply(lambda x: clean_text(x))\n",
    "testing_queries_['cleaned'] = testing_queries_['cleaned'].apply(lambda x: clean_text(x))\n",
    "\n",
    "# Removing extra spaces\n",
    "training_queries_['cleaned'] = training_queries_['cleaned'].apply(lambda x: re.sub(' +',' ',x))\n",
    "testing_queries_['cleaned'] = testing_queries_['cleaned'].apply(lambda x: re.sub(' +',' ',x))"
   ]
  },
  {
   "cell_type": "markdown",
   "metadata": {},
   "source": [
    "# Creating Vectors\n",
    "Train the word2vec model and generate vectors for documents and queries in the testing set for information retrieval. First step is to prepare the dataset for training the model, and to use the same w2v model for generating vectors for both documents and queries,  we’ll combine both documents and queries training to create a single file"
   ]
  },
  {
   "cell_type": "code",
   "execution_count": 7,
   "metadata": {},
   "outputs": [],
   "source": [
    "# Combining corpus and queries for training\n",
    "combined_training = pd.concat([training_corpus.rename(columns={'lemmatized':'text'})['text'],\\\n",
    "                                 training_queries_.rename(columns={'cleaned':'text'})['text']]).sample(frac=1).reset_index(drop=True)"
   ]
  },
  {
   "cell_type": "markdown",
   "metadata": {},
   "source": [
    "# Model Training\n",
    "Using Gensim to train the word2vec model. Gensim is a python package used for topic modeling, text processing, and working with word vector models such as Word2Vec and FastText"
   ]
  },
  {
   "cell_type": "code",
   "execution_count": 8,
   "metadata": {},
   "outputs": [
    {
     "name": "stdout",
     "output_type": "stream",
     "text": [
      "Vocabulary size: 4011\n",
      "Model vector size: 100\n"
     ]
    }
   ],
   "source": [
    "# Creating data for the model training, iterate on each row from the combined data and split it in to words\n",
    "train_data = []\n",
    "for row in combined_training:\n",
    "    train_data.append(row.split())\n",
    "\n",
    "# Training a word2vec model from the given data set\n",
    "# w2v_model = Word2Vec(train_data, vector_size=300, min_count=2, window=5, sg=1, workers=4)\n",
    "# vector_size: default value 100 [https://stackoverflow.com/questions/45444964/python-what-is-the-size-parameter-in-gensim-word2vec-model-class]\n",
    "# min_count: Words below the min_count frequency are dropped before training occurs. \n",
    "# window: [https://stackoverflow.com/questions/22272370/word2vec-effect-of-window-size-used/30447723#30447723]\n",
    "w2v_model = Word2Vec(train_data, min_count=2)\n",
    "print('Vocabulary size:', len(w2v_model.wv.index_to_key))\n",
    "print('Model vector size:', w2v_model.wv.vector_size)"
   ]
  },
  {
   "cell_type": "code",
   "execution_count": 9,
   "metadata": {},
   "outputs": [],
   "source": [
    "def get_embedding_w2v(doc_tokens):\n",
    "    \"\"\"\n",
    "    Description: function for generating vectors for the whole document or query. \n",
    "    This function will use the word2vec model and generate the vectors for each word in the document.\n",
    "    Then, it will take the average of the vectors, and the resulting vector will represent the vector for the document. \n",
    "    Any document or query of length zero will have a vector containing zeroes, and any word which won’t be present in the vocabulary will have a vector with random values.\n",
    "    \"\"\"\n",
    "    \n",
    "    embeddings = []\n",
    "    \n",
    "    if len(doc_tokens) < 1:\n",
    "        # w2v_model.wv.vector_size: 100 (default)\n",
    "        return np.zeros(w2v_model.wv.vector_size)\n",
    "    else:\n",
    "        for tok in doc_tokens:\n",
    "            if tok in list(w2v_model.wv.index_to_key):\n",
    "                embeddings.append(w2v_model.wv.get_vector(tok))\n",
    "            else:\n",
    "                # w2v_model.wv.vector_size: 100 (default)\n",
    "                embeddings.append(np.random.rand(w2v_model.wv.vector_size))\n",
    "    \n",
    "        # mean the vectors of individual words to get the vector of the document\n",
    "        return np.mean(embeddings, axis=0)\n",
    "\n",
    "# Getting Word2Vec Vectors for Testing Corpus and Queries\n",
    "testing_corpus['vector'] = testing_corpus['lemmatized'].apply(lambda x :get_embedding_w2v(x.split()))\n",
    "testing_queries_['vector'] = testing_queries_['cleaned'].apply(lambda x :get_embedding_w2v(x.split()))"
   ]
  },
  {
   "cell_type": "markdown",
   "metadata": {},
   "source": [
    "# Final IR Pipeline"
   ]
  },
  {
   "cell_type": "code",
   "execution_count": 10,
   "metadata": {},
   "outputs": [],
   "source": [
    "def ranking_ir(query):\n",
    "    \"\"\"\n",
    "        Description: a function that takes a query as an input and return the top 10 relevant documents. \n",
    "        This function will follow the information retrieval(IR) pipeline. First, it will pre-process the query. Then, it will generate the vector for it. After that, it will rank the documents based on the similarity scores.\n",
    "    \"\"\"      \n",
    "    # pre-process Query\n",
    "    query = re.sub(' +', ' ', clean_text(expand_contractions(query.lower())))\n",
    "\n",
    "    # generating vector\n",
    "    vector = get_embedding_w2v(query.split())\n",
    "\n",
    "    # ranking documents\n",
    "    documents_ = documents[['index', 'title','body']].copy()\n",
    "    documents_['similarity'] = testing_corpus['vector'].apply(lambda x: cosine_similarity(np.array(vector).reshape(1, -1),np.array(x).reshape(1, -1)).item())\n",
    "    documents_.sort_values(by='similarity', ascending=False, inplace=True)\n",
    "\n",
    "    return documents_.head(10).reset_index(drop=True)"
   ]
  },
  {
   "attachments": {
    "image-2.png": {
     "image/png": "[encoded data removed]"
    },
    "image.png": {
     "image/png": "[encoded data removed]"
    }
   },
   "cell_type": "markdown",
   "metadata": {},
   "source": [
    "## Precision and Recall\n",
    "#### Precision\n",
    "Precision measures \"of all the documents we retrieved as relevant how many are actually relevant?\"\n",
    "Precision = No. of relevant documents retrieved / No. of total documents retrieved<br><br>\n",
    "![image-2.png](attachment:image-2.png)\n",
    "#### Recall\n",
    "Recall is the fraction of the documents that are relevant to the query that are successfully retrieved\n",
    "![image.png](attachment:image.png)"
   ]
  },
  {
   "cell_type": "markdown",
   "metadata": {},
   "source": [
    "# Testing"
   ]
  },
  {
   "cell_type": "code",
   "execution_count": 11,
   "metadata": {},
   "outputs": [],
   "source": [
    "# Calcualte precision and recall for each query using ground truth\n",
    "def common(a, b): \n",
    "    c = [value for value in a if value in b] \n",
    "    return c\n",
    "\n",
    "queries_response = {}\n",
    "for i in range(0, len(queries)):\n",
    "    \n",
    "    try:\n",
    "        # Get dll documents ID's \n",
    "        retrived_documents = [doc_id for doc_id in ranking_ir(queries.iloc[[i]]['query'].values[0])['index']]\n",
    "        # Get all relevant documents and ignore 'None' values\n",
    "        relevant_documents = [doc_id for doc_id in ground_truth[f\"{i+1}\"] if doc_id] # get\n",
    "        # Get commong documents ID's\n",
    "        c = common(relevant_documents, retrived_documents)\n",
    "        # Calculate Precision\n",
    "        precision = len(c) / len(retrived_documents)\n",
    "        # Calcualte Recall\n",
    "        recall = len(c) / len(relevant_documents)\n",
    "        \n",
    "    except KeyError:\n",
    "        # When there's no relevant document, precision and recall should be 0\n",
    "        precision = recall = 0\n",
    "\n",
    "    queries_response[i+1] = {\"query\": queries.iloc[[i]]['query'],\n",
    "                             \"relevant_documents\": relevant_documents, \n",
    "                             \"retrived_documents\": retrived_documents,\n",
    "                             \"precision\": precision,\n",
    "                             \"recall\": recall}   "
   ]
  },
  {
   "cell_type": "code",
   "execution_count": 12,
   "metadata": {},
   "outputs": [
    {
     "name": "stdout",
     "output_type": "stream",
     "text": [
      "Query ID 50: Is there any use for traditional classification schemes - DDC, UDC, LC, etc. - in information retrieval systems? If there is, which scheme appears most suited to machine use and where has it been applied? If there is not, why are these classification schemes irrelevant? Has research shown that a subject classification of knowledge is completely unnecessary in machine systems? Or, have new schemes been devised which appear to be more suited to machine use?\n",
      "Relevant Documents: ['1', '16', '45', '80', '154', '209', '257', '258', '259', '260', '262', '263', '275', '276', '333', '334', '335', '342', '354', '361', '388', '404', '480', '488', '522', '527', '530', '564', '576', '596', '608', '701', '702', '758', '769', '797', '801', '817', '820', '825', '830', '838', '853', '868', '869', '884', '898', '931', '960', '966', '989', '993', '996', '999', '1010', '1066', '1072', '1074', '1075', '1103', '1137', '1140', '1141', '1170', '1202', '1215', '1216', '1230', '1231', '1259', '1265', '1266', '1280', '1283', '1298', '1351', '1380', '1391', '1392', '1393', '1394', '1395', '1419', '1421', '1422', '1426', '1430', '1442', '1448']\n",
      "Retrived Documents: ['1222', '956', '176', '611', '868', '650', '1448', '487', '1306', '805']\n",
      "Precision: 0.2\n",
      "Recall: 0.02247191011235955\n"
     ]
    }
   ],
   "source": [
    "q_id = 50\n",
    "print(f\"Query ID {q_id}:\", queries_response[q_id]['query'].values[0]) \n",
    "relevant_docs = queries_response[q_id]['relevant_documents']\n",
    "print(\"Relevant Documents:\", relevant_docs)\n",
    "retrived_docs = queries_response[q_id]['retrived_documents']\n",
    "print(\"Retrived Documents:\", retrived_docs)\n",
    "print(\"Precision:\",queries_response[q_id][\"precision\"])\n",
    "print(\"Recall:\", queries_response[q_id][\"recall\"])"
   ]
  },
  {
   "cell_type": "code",
   "execution_count": 13,
   "metadata": {},
   "outputs": [
    {
     "name": "stdout",
     "output_type": "stream",
     "text": [
      "Average Precision: 0.019642857142857146\n",
      "Average Precision: 0.004577859662858973\n"
     ]
    }
   ],
   "source": [
    "# Calcualte average Precision and Recall\n",
    "sum_precision = sum_recall = 0\n",
    "for q_id in queries_response:\n",
    "    sum_precision += queries_response[q_id][\"precision\"]\n",
    "    sum_recall += queries_response[q_id][\"recall\"]\n",
    "print(\"Average Precision:\", sum_precision / int(q_id))\n",
    "print(\"Average Precision:\", sum_recall / int(q_id))"
   ]
  }
 ],
 "metadata": {
  "kernelspec": {
   "display_name": "Python 3",
   "language": "python",
   "name": "python3"
  },
  "language_info": {
   "codemirror_mode": {
    "name": "ipython",
    "version": 3
   },
   "file_extension": ".py",
   "mimetype": "text/x-python",
   "name": "python",
   "nbconvert_exporter": "python",
   "pygments_lexer": "ipython3",
   "version": "3.8.11"
  }
 },
 "nbformat": 4,
 "nbformat_minor": 4
}
