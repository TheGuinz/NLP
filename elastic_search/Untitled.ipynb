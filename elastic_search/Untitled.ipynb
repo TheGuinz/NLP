{
 "cells": [
  {
   "cell_type": "code",
   "execution_count": 1,
   "id": "0478e20d",
   "metadata": {},
   "outputs": [],
   "source": [
    "import os\n",
    "import json\n",
    "from json import JSONDecodeError\n",
    "import sys\n",
    "import elasticsearch\n",
    "import warnings\n",
    "warnings.filterwarnings(\"ignore\", message=\"ElasticsearchWarning\")\n",
    "sys.path.insert(0, '/home/guinzburg/NLP/Data')\n",
    "from data_parser import parse_queries, parse_documents, parse_data_ground_truth"
   ]
  },
  {
   "cell_type": "markdown",
   "id": "e8dac3de",
   "metadata": {},
   "source": [
    "## ElasticSearch\n",
    "Full-text search queries and performs linguistic searches against documents. It includes single or multiple words or phrases and returns documents that match search condition.\n",
    "\n",
    "ElasticSearch is a search engine based on Apache Lucene, a free and open-source information retrieval software library. It provides a distributed, full-text search engine with an HTTP web interface and schema-free JSON documents.\n",
    "\n",
    "Documents are represented as JSON objects. JSON serialization is supported by most programming languages and has become the standard format used by the NoSQL movement. It is simple, concise, and easy to read.\n",
    "\n",
    "https://www.baeldung.com/elasticsearch-full-text-search-rest-api"
   ]
  },
  {
   "cell_type": "markdown",
   "id": "25047e7a",
   "metadata": {},
   "source": [
    "## Documents, Queries, and Ground Truth\n",
    "Load the files containing queries, documents and ground truth using 'parse_queries', 'parse_documents', and parse_data_ground_truth, then create json objects for each one\n",
    "for further processing"
   ]
  },
  {
   "cell_type": "code",
   "execution_count": 2,
   "id": "dc1d4fd5",
   "metadata": {},
   "outputs": [],
   "source": [
    "# Get all queries\n",
    "queries = json.loads(json.dumps(parse_queries(path='/home/guinzburg/NLP/Data/CISI.QRY'), indent = 4))\n",
    "# Get all documents\n",
    "documents = json.loads(json.dumps(parse_documents(path='/home/guinzburg/NLP/Data/CISI.ALL'), indent = 4))\n",
    "# Get ground truth\n",
    "ground_truth = json.loads(json.dumps(parse_data_ground_truth(path='/home/guinzburg/NLP/Data/CISI.REL'), indent = 4))"
   ]
  },
  {
   "cell_type": "markdown",
   "id": "65c538fb",
   "metadata": {},
   "source": [
    "## Validate ElasticSearch service is up and running\n",
    "By instantiate a client instance and using an API callcall' in this example `info()` we can validate that the service is running properly <br><br>\n",
    "<i>Plain vanilla curl command: curl -XGET 'http://localhost:9200/</i>"
   ]
  },
  {
   "cell_type": "code",
   "execution_count": 4,
   "id": "142f6247",
   "metadata": {},
   "outputs": [
    {
     "name": "stdout",
     "output_type": "stream",
     "text": [
      "ElasticSearch service is up and running. \n",
      "Version: 7.15.0\n"
     ]
    }
   ],
   "source": [
    "try:\n",
    "    es = elasticsearch.Elasticsearch(\"http://localhost:9200\")\n",
    "    print(\"ElasticSearch service is up and running.\",\"\\nVersion:\", es.info()['version']['number'])\n",
    "except elasticsearch.ElasticsearchException as e:\n",
    "    print(\"ElasticSearch service is not running.\\n\")"
   ]
  },
  {
   "cell_type": "markdown",
   "id": "0a87fd87",
   "metadata": {},
   "source": [
    "## Updating ElasticSearch with Documents\n",
    "ElasticSearch is document oriented. It stores and indexes documents. Indexing creates or updates documents. After indexing, you can search, sort, and filter complete documents. Using ElasticSearch.index<br><br>\n",
    "<i>Plain vanilla curl command: \n",
    "curl -XPUT 'localhost:9200/text/article/1?pretty'\n",
    "-H 'Content-Type: application/json' -d '\n",
    "{\n",
    "  \"title\": \"He went\",\n",
    "  \"random_text\": \n",
    "    \"He went such dare good fact. The small own seven saved man age.\"\n",
    "}</i>"
   ]
  },
  {
   "cell_type": "code",
   "execution_count": 5,
   "id": "217fb5de",
   "metadata": {},
   "outputs": [],
   "source": [
    "for id in documents:\n",
    "    \n",
    "    # Create document \n",
    "    document = {\n",
    "        \"title\": documents[id]['title'],\n",
    "        \"text\": documents[id]['body']\n",
    "    }\n",
    "\n",
    "    # Use ElasticSearch client to insert a document\n",
    "    res = es.index(index=\"document\", id=id, document=document)\n",
    "    \n",
    "    # Verify update was sucessful\n",
    "    try:\n",
    "        _ = res['result']\n",
    "\n",
    "    except elasticsearch.ElasticsearchException as e:\n",
    "        print(\"Update error\", \"Document ID:\", id, \"Actual Error:\", e)"
   ]
  },
  {
   "cell_type": "markdown",
   "id": "475428e2",
   "metadata": {},
   "source": [
    "## Count ElasticSearch Documents\n",
    "Get the number of documents within ElasticSearch using ElasticSearch.count<br><br>\n",
    "<i>plain vanilla curl command:\"curl -XGET 'localhost:9200/document/_count?pretty'</i>"
   ]
  },
  {
   "cell_type": "code",
   "execution_count": 6,
   "id": "8659b2ce",
   "metadata": {},
   "outputs": [
    {
     "name": "stdout",
     "output_type": "stream",
     "text": [
      "1460 / 1460 documents were UPDATED\n"
     ]
    }
   ],
   "source": [
    "es_doc_count = es.count(index=\"document\", body = dict())['count']\n",
    "\n",
    "print(f\"{es_doc_count} / {len(documents)} documents were UPDATED\")"
   ]
  },
  {
   "cell_type": "markdown",
   "id": "b8643f5e",
   "metadata": {},
   "source": [
    "## Search ElasticSearch for Documents\n",
    "Get all documents hits that match'es the query defined in the request using ElasticSearch.search<br><br>\n",
    "<i>plain vanilla curl command: \n",
    "curl -XGET 'localhost:9200/text/article/_search?pretty' \n",
    "-H 'Content-Type: application/json' -d '\n",
    "{\n",
    "  \"query\": {\n",
    "    \"match\": {\n",
    "      \"random_text\": \"him departure\"\n",
    "    }\n",
    "  }\n",
    "}'</i>"
   ]
  },
  {
   "cell_type": "code",
   "execution_count": 7,
   "id": "7972a631",
   "metadata": {},
   "outputs": [
    {
     "name": "stderr",
     "output_type": "stream",
     "text": [
      "<ipython-input-7-756190fd565c>:18: DeprecationWarning: The 'body' parameter is deprecated for the 'search' API and will be removed in 8.0.0. Instead use API parameters directly. See https://github.com/elastic/elasticsearch-py/issues/1698 for more information\n",
      "  response = es.search(index=\"document\", body=search_param)\n"
     ]
    }
   ],
   "source": [
    "# create a Python dictionary for the search query:\n",
    "\n",
    "queries_response = {}\n",
    "\n",
    "for q_id in queries:\n",
    "\n",
    "    # Prepare query \n",
    "    search_param = {\n",
    "          # \"size\" : defule_value_is_10,\n",
    "          \"query\": {\n",
    "              \"simple_query_string\" : {\n",
    "                  \"query\": queries[q_id] \n",
    "                    }\n",
    "            }\n",
    "    }\n",
    "    \n",
    "    # Get a response from the cluster\n",
    "    response = es.search(index=\"document\", body=search_param)\n",
    "    \n",
    "    # Save all results (documents ID's) for each query\n",
    "    queries_response[q_id] = []\n",
    "    for item in response['hits']['hits']:\n",
    "        queries_response[q_id].append((item['_id'], item['_score']))"
   ]
  },
  {
   "attachments": {
    "image-2.png": {
     "image/png": "[encoded data removed]"
    },
    "image.png": {
     "image/png": "[encoded data removed]"
    }
   },
   "cell_type": "markdown",
   "id": "5d6049e9",
   "metadata": {},
   "source": [
    "## Precision and Recall\n",
    "#### Precision\n",
    "Precision measures \"of all the documents we retrieved as relevant how many are actually relevant?\"\n",
    "Precision = No. of relevant documents retrieved / No. of total documents retrieved<br><br>\n",
    "![image.png](attachment:image.png)\n",
    "#### Recall\n",
    "Recall is the fraction of the documents that are relevant to the query that are successfully retrieved\n",
    "![image-2.png](attachment:image-2.png)\n"
   ]
  },
  {
   "cell_type": "code",
   "execution_count": 8,
   "id": "d97d9d93",
   "metadata": {},
   "outputs": [],
   "source": [
    "# Calcualte precision and recall for each query using ground truth\n",
    "def common(a, b): \n",
    "    c = [value for value in a if value in b] \n",
    "    return c\n",
    "\n",
    "queries_precision_recall = {}\n",
    "for q_id in queries_response:\n",
    "    if q_id not in queries_precision_recall.keys():\n",
    "        queries_precision_recall[q_id] = []\n",
    "    try:\n",
    "        c = common(ground_truth[q_id], [item[0] for item in queries_response[q_id]])\n",
    "        queries_precision_recall[q_id].append(len(c)/len(queries_response[q_id]))\n",
    "        queries_precision_recall[q_id].append(len(c)/len(ground_truth[q_id]))\n",
    "    except KeyError:\n",
    "        queries_precision_recall[q_id].append(0)\n",
    "        queries_precision_recall[q_id].append(0)\n",
    "        pass"
   ]
  },
  {
   "cell_type": "code",
   "execution_count": 9,
   "id": "aecfe17d",
   "metadata": {},
   "outputs": [
    {
     "name": "stdout",
     "output_type": "stream",
     "text": [
      "Query ID 50: Is there any use for traditional classification schemes - DDC, UDC, LC, etc. - in information retrieval systems? If there is, which scheme appears most suited to machine use and where has it been applied? If there is not, why are these classification schemes irrelevant? Has research shown that a subject classification of knowledge is completely unnecessary in machine systems? Or, have new schemes been devised which appear to be more suited to machine use?\n",
      "Relevant Documents: ['1', '16', '45', '80', '154', '209', '257', '258', '259', '260', '262', '263', '275', '276', '333', '334', '335', '342', '354', '361', '388', '404', '480', '488', '522', '527', '530', '564', '576', '596', '608', '701', '702', '758', '769', '797', '801', '817', '820', '825', '830', '838', '853', '868', '869', '884', '898', '931', '960', '966', '989', '993', '996', '999', '1010', '1066', '1072', '1074', '1075', '1103', '1137', '1140', '1141', '1170', '1202', '1215', '1216', '1230', '1231', '1259', '1265', '1266', '1280', '1283', '1298', '1351', '1380', '1391', '1392', '1393', '1394', '1395', '1419', '1421', '1422', '1426', '1430', '1442', '1448']\n",
      "Retrived Documents: ['503', '564', '448', '663', '1419', '45', '754', '488', '309', '853']\n",
      "Precision: 0.7\n",
      "Recall: 0.07865168539325842\n"
     ]
    }
   ],
   "source": [
    "print(\"Query ID 50:\", queries[\"50\"])\n",
    "print(\"Relevant Documents:\", ground_truth[\"50\"])\n",
    "print(\"Retrived Documents:\",  [item[0] for item in queries_response[q_id]])\n",
    "print(\"Precision:\", queries_precision_recall[\"50\"][0])\n",
    "print(\"Recall:\", queries_precision_recall[\"50\"][1])"
   ]
  },
  {
   "cell_type": "code",
   "execution_count": 10,
   "id": "811e1f4b",
   "metadata": {},
   "outputs": [
    {
     "name": "stdout",
     "output_type": "stream",
     "text": [
      "Average Precision: 0.19821428571428568\n",
      "Average Precision: 0.06999870535046977\n"
     ]
    }
   ],
   "source": [
    "# Calcualte average Precision and Recall\n",
    "sum_precision = sum_recall = 0\n",
    "for q_id in queries_precision_recall:\n",
    "    sum_precision += queries_precision_recall[q_id][0]\n",
    "    sum_recall += queries_precision_recall[q_id][1]\n",
    "print(\"Average Precision:\", sum_precision/112)\n",
    "print(\"Average Precision:\", sum_recall/112)"
   ]
  },
  {
   "cell_type": "code",
   "execution_count": null,
   "id": "65a53d55",
   "metadata": {},
   "outputs": [],
   "source": []
  }
 ],
 "metadata": {
  "kernelspec": {
   "display_name": "Python 3",
   "language": "python",
   "name": "python3"
  },
  "language_info": {
   "codemirror_mode": {
    "name": "ipython",
    "version": 3
   },
   "file_extension": ".py",
   "mimetype": "text/x-python",
   "name": "python",
   "nbconvert_exporter": "python",
   "pygments_lexer": "ipython3",
   "version": "3.8.11"
  }
 },
 "nbformat": 4,
 "nbformat_minor": 5
}
